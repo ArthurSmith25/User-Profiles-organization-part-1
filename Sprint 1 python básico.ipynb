{
 "cells": [
  {
   "cell_type": "markdown",
   "metadata": {
    "id": "UCjlyTyyJm9R"
   },
   "source": [
    "# Data Cleaning & Structuring of User Profiles #\n",
    "\n",
    "\n",
    "**Proyecto:** Limpieza y Estructuración de Perfiles de Usuario\n",
    "\n",
    "**Autor**: Carlos Smith\n",
    "\n",
    "**Fecha**: Junio 2025\n",
    "\n",
    "Descripción del Proyecto:\n",
    "-----------------------\n",
    "Este proyecto se centra en la **limpieza, transformación y estructuración de perfiles de usuario**, abordando un desafío común en el análisis de datos: trabajar con **fuentes de datos crudas e inconsistentes**. Los datos originales presentan problemas típicos como formatos irregulares en nombres, tipos de datos incorrectos y variaciones en listas de preferencias.\n",
    "\n",
    "🎯 Objetivos Clave:\n",
    "* **Garantizar la Calidad de Datos:** Limpiar y transformar datos inconsistentes para asegurar su fiabilidad y precisión.\n",
    "* **Preparación para el Análisis:** Estructurar los datos de manera que faciliten análisis posteriores y la toma de decisiones informada.\n",
    "* **Comunicación Efectiva:** Generar resúmenes claros y legibles para stakeholders no técnicos, traduciendo datos complejos en insights accionables.\n",
    "\n",
    "🛠️ Habilidades Demostradas:\n",
    "* **Python:** Dominio en manipulación de cadenas y listas, así como en el manejo robusto de errores (excepciones).\n",
    "* **Data Wrangling:** Experiencia en corrección de tipos de datos, formateo y ordenamiento eficiente de la información.\n",
    "* **Pensamiento Crítico:** Capacidad para identificar y resolver inconsistencias, demostrando una sólida atención al detalle en la validación de datos.\n",
    "* **Comunicación de Datos:** Habilidad para presentar hallazgos de manera concisa y comprensible para diversas audiencias.\n",
    "\n",
    "Este proyecto destaca la **habilidad fundamental para limpieza y preprocesamiento de datos**, un pilar esencial en cualquier pipeline de análisis o ciencia de datos.\n",
    "\n",
    "---\n",
    "\n",
    "### **Contexto del Análisis:**\n",
    "Como parte de las responsabilidades del equipo de análisis, la fase inicial de este proyecto implica evaluar la calidad de una muestra de datos de usuario y prepararlos meticulosamente. Una vez completada esta etapa de preprocesamiento, se procederá con un análisis exhaustivo para responder a las necesidades específicas del cliente.\n",
    "\"\"\""
   ]
  },
  {
   "cell_type": "markdown",
   "metadata": {
    "id": "EMQlsEYlxGET"
   },
   "source": [
    "Estos son los datos que el cliente nos proporcionó. Tienen el formato de una lista de Python, con las siguientes columnas de datos:\n",
    "\n",
    "- **user_id:** Identificador único para cada usuario.\n",
    "- **user_name:** El nombre del usuario.\n",
    "- **user_age:** La edad del usuario.\n",
    "- **fav_categories:** Categorías favoritas de los artículos que compró el usuario, como 'ELECTRONICS', 'SPORT' y 'BOOKS' (ELECTRÓNICOS, DEPORTES y LIBROS), etc.\n",
    "- **total_spendings:** Una lista de números enteros que indican la cantidad total gastada en cada una de las categorías favoritas.\n"
   ]
  },
  {
   "cell_type": "code",
   "execution_count": 1,
   "metadata": {
    "id": "LfBCH4crxLOt",
    "trusted": true
   },
   "outputs": [],
   "source": [
    "users = [\n",
    "    ['32415', ' mike_reed ', 32.0, ['ELECTRONICS', 'SPORT', 'BOOKS'], [894, 213, 173]],\n",
    "    ['31980', 'kate morgan', 24.0, ['CLOTHES', 'BOOKS'], [439, 390]],\n",
    "    ['32156', ' john doe ', 37.0, ['ELECTRONICS', 'HOME', 'FOOD'], [459, 120, 99]],\n",
    "    ['32761', 'SAMANTHA SMITH', 29.0, ['CLOTHES', 'ELECTRONICS', 'BEAUTY'], [299, 679, 85]],\n",
    "    ['32984', 'David White', 41.0, ['BOOKS', 'HOME', 'SPORT'], [234, 329, 243]],\n",
    "    ['33001', 'emily brown', 26.0, ['BEAUTY', 'HOME', 'FOOD'], [213, 659, 79]],\n",
    "    ['33767', ' Maria Garcia', 33.0, ['CLOTHES', 'FOOD', 'BEAUTY'], [499, 189, 63]],\n",
    "    ['33912', 'JOSE MARTINEZ', 22.0, ['SPORT', 'ELECTRONICS', 'HOME'], [259, 549, 109]],\n",
    "    ['34009', 'lisa wilson ', 35.0, ['HOME', 'BOOKS', 'CLOTHES'], [329, 189, 329]],\n",
    "    ['34278', 'James Lee', 28.0, ['BEAUTY', 'CLOTHES', 'ELECTRONICS'], [189, 299, 579]],\n",
    "]\n"
   ]
  },
  {
   "cell_type": "markdown",
   "metadata": {
    "id": "QJa5xuF-Jm9T"
   },
   "source": [
    "### **Paso 1: Evaluación Inicial de la Calidad de Datos**\n",
    "\n",
    "**Contexto:**\n",
    "Como parte de nuestra iniciativa para garantizar la coherencia en la recopilación de datos, realizamos una evaluación exhaustiva de la calidad de los datos de usuario. Se nos solicitó revisar una muestra de datos y proponer ajustes necesarios para su optimización.\n",
    "\n",
    "Los datos proporcionados inicialmente tienen el siguiente formato y columnas:\n",
    "- **user_id:** Identificador único para cada usuario.\n",
    "- **user_name:** El nombre del usuario.\n",
    "- **user_age:** La edad del usuario.\n",
    "- **fav_categories:** Categorías favoritas de artículos (ej., 'ELECTRONICS', 'SPORT', 'BOOKS').\n",
    "- **total_spendings:** Lista de números enteros que indican el gasto total en cada categoría favorita.\n"
   ]
  },
  {
   "cell_type": "code",
   "execution_count": null,
   "metadata": {
    "id": "kvRIX_jfJm9U",
    "trusted": true
   },
   "outputs": [],
   "source": [
    "user_id = '32415'\n",
    "user_name = ' mike_reed '\n",
    "user_age = 32.0\n",
    "fav_categories = ['ELECTRONICS', 'SPORT', 'BOOKS']"
   ]
  },
  {
   "cell_type": "markdown",
   "metadata": {
    "id": "jBGXAwBkJm9V"
   },
   "source": [
    "A continuación, se detalla el análisis de los problemas identificados en los datos y la justificación para las transformaciones propuestas:\n",
    "\"\"\"\n",
    "\n",
    " *Análisis de Problemas de Datos y Justificaciones*\n",
    "\n",
    "#### 1. **user_id:** Cambio de tipo de dato de cadena a entero.\n",
    "\n",
    "   **Problema Identificado:** user_id puede aparecer como cadena (string).\n",
    "\n",
    "   **Justificación para el Cambio:** Convertir `user_id` a tipo entero (`int`) es fundamental para asegurar su **consistencia** como identificador numérico único. Esto no solo optimiza las operaciones de indexación y búsqueda, sino que también facilita validaciones numéricas y previene inconsistencias que surgirían si se manejaran como cadenas alfanuméricas. Es una práctica recomendada para IDs que deben ser exclusivamente numéricos.\n",
    "\n",
    "#### 2. **user_name:** Contiene espacios innecesarios y un guion bajo.\n",
    "\n",
    "   **Problema Identificado:** La variable `user_name` presenta espacios iniciales/finales y un guion bajo (`_`) entre el nombre y el apellido.\n",
    "   \n",
    "   **Justificación para el Cambio:** Estas inconsistencias afectan la **estandarización y legibilidad** del nombre. Eliminar espacios innecesarios y reemplazar el guion bajo por un espacio regular es crucial. Esta normalización mejora la calidad de los datos, facilita la búsqueda, el ordenamiento lexicográfico, y prepara el campo para una potencial división en nombre y apellido de forma precisa.\n",
    "\n",
    "\n",
    "#### 3. **user_age:** Tipo de dato incorrecto (decimal en lugar de entero).\n",
    "\n",
    "   **Problema Identificado:** `user_age` puede estar representado como un número decimal.\n",
    "\n",
    "   **Justificación para el Cambio:** Aunque la diferencia parezca mínima, transformar `user_age` a un **número entero** es óptimo. Para una variable como la edad, los decimales son innecesarios y su presencia podría impactar la eficiencia del almacenamiento en grandes volúmenes de datos. Asegurar que sea un entero garantiza la **precisión** y uniformidad esperada para esta variable.\n",
    "\n",
    "#### 4. **fav_categories**: Cadenas en mayúsculas.\n",
    "\n",
    "   **Problema Identificado:** La lista `fav_categories` contiene cadenas en mayúsculas (ej. 'ELECTRONICS').\n",
    "\n",
    "   **Justificación para el Cambio:** Estandarizar todas las categorías a **minúsculas** es una práctica clave de limpieza de datos para evitar inconsistencias. Por ejemplo, \"Electronics\" y \"electronics\" serían tratados como entidades distintas sin esta uniformización. Convertir a minúsculas simplifica la agrupación, el conteo y la búsqueda de categorías, mejorando significativamente la **coherencia y la facilidad de análisis**.\n"
   ]
  },
  {
   "cell_type": "markdown",
   "metadata": {
    "id": "aZ40WbF5Jm9V"
   },
   "source": [
    "### **Paso 2 Optimización y Normalización de la Variable user_name**\n",
    "\n",
    "Para continuar con la mejora de la calidad de nuestros datos, nos enfocaremos en la variable user_name. Hemos identificado que esta variable contiene inconsistencias, específicamente espacios innecesarios y un guion bajo (_) como separador entre el nombre y el apellido.\n",
    "\n",
    "**Objetivo**\n",
    "- El objetivo principal en este paso es estandarizar el formato de user_name, lo que facilitará su uso y análisis posterior.\n",
    "\n",
    "**Acciones Clave**\n",
    "\n",
    "Para lograr la estandarización, realizaremos dos acciones clave:\n",
    "\n",
    "- Eliminar los espacios superfluos: Aseguraremos que no haya espacios adicionales al inicio o al final del valor, ni múltiples espacios entre palabras. Esto garantiza una representación limpia y consistente.\n",
    "\n",
    "- Reemplazar el guion bajo por un espacio: Convertiremos el guion bajo que actualmente separa el nombre del apellido en un espacio. Esto creará un formato de nombre completo más legible y convencional.\n",
    "\n",
    "- Al implementar estos cambios, garantizaremos la consistencia y la facilidad de uso de la variable user_name en futuras operaciones, lo que es fundamental para la integridad de nuestro conjunto de datos.\n"
   ]
  },
  {
   "cell_type": "code",
   "execution_count": 3,
   "metadata": {
    "colab": {
     "base_uri": "https://localhost:8080/"
    },
    "id": "_uOLKjF8Jm9V",
    "outputId": "630b0663-620c-44a2-f0d1-4b7b4a592b0b",
    "trusted": true
   },
   "outputs": [
    {
     "name": "stdout",
     "output_type": "stream",
     "text": [
      "mike reed\n"
     ]
    }
   ],
   "source": [
    "user_name = ' mike_reed '\n",
    "user_name = user_name.strip()# escribe tu código aquí\n",
    "user_name = user_name.replace('_', ' ')# escribe tu código aquí\n",
    "\n",
    "print(user_name)"
   ]
  },
  {
   "cell_type": "markdown",
   "metadata": {
    "id": "IBQlePCsJm9V"
   },
   "source": [
    "### **Paso 3: División de user_name en Nombre y Apellido**\n",
    "Ahora que hemos optimizado y normalizado la variable user_name, el siguiente paso es dividir esta cadena en sus componentes individuales: el nombre y el apellido.\n",
    "\n",
    "**Objetivo**\n",
    "\n",
    "Transformar la cadena user_name en una lista que contenga dos elementos distintos:\n",
    "- La cadena correspondiente al nombre.\n",
    "- La cadena correspondiente al apellido.\n",
    "\n",
    "**Acción Clave**\n",
    "\n",
    "Utilizaremos una operación de división para separar user_name donde se encuentre el espacio que ahora actúa como delimitador entre el nombre y el apellido. Esto nos permitirá obtener fácilmente una lista con los dos valores que necesitamos.\n",
    "\n",
    "Al realizar esta división, preparamos los datos para un análisis más granular y facilitamos la manipulación de los componentes del nombre de usuario de forma individual."
   ]
  },
  {
   "cell_type": "code",
   "execution_count": 4,
   "metadata": {
    "colab": {
     "base_uri": "https://localhost:8080/"
    },
    "id": "0mYAxetNJm9W",
    "outputId": "2128b910-489c-4939-cb24-6d0f6d45e877",
    "trusted": true
   },
   "outputs": [
    {
     "name": "stdout",
     "output_type": "stream",
     "text": [
      "['mike', 'reed']\n"
     ]
    }
   ],
   "source": [
    "user_name = 'mike reed'\n",
    "name_split = user_name.split(' ') # escribe tu código aquí\n",
    "\n",
    "print(name_split)"
   ]
  },
  {
   "cell_type": "markdown",
   "metadata": {
    "id": "bcNebWVsJm9W"
   },
   "source": [
    "### **Paso 4: Corrección del Tipo de Datos de user_age**\n",
    "Ahora, es momento de abordar la variable user_age.\n",
    "\n",
    "**Objetivo**\n",
    "\n",
    "Como identificamos previamente, la variable user_age no tiene el tipo de datos correcto para su manipulación numérica. Nuestro objetivo en este paso es transformar el tipo de datos de user_age para asegurar que sea numérico, permitiendo operaciones matemáticas y análisis adecuados. Una vez hecha la transformación, mostraremos el resultado final para confirmar la corrección.\n",
    "\n",
    "**Acción Clave**\n",
    "\n",
    "Convertiremos el tipo de datos actual de user_age (probablemente una cadena de texto) a un formato numérico, como un entero (int) o un flotante (float), según la naturaleza de la edad. Esto es fundamental para cualquier cálculo o comparación futura que involucre la edad del usuario.\n",
    "\n",
    "Al corregir el tipo de datos de user_age, garantizamos la integridad de nuestros datos y habilitamos su uso efectivo en cualquier análisis cuantitativo.\n"
   ]
  },
  {
   "cell_type": "code",
   "execution_count": 5,
   "metadata": {
    "colab": {
     "base_uri": "https://localhost:8080/"
    },
    "id": "g0FZSll4Jm9W",
    "outputId": "8b977bc7-e315-4a27-97ad-645570ed60bc",
    "trusted": true
   },
   "outputs": [
    {
     "name": "stdout",
     "output_type": "stream",
     "text": [
      "32\n"
     ]
    }
   ],
   "source": [
    "user_age = 32.0\n",
    "user_age = int(user_age) # escribe tu código aquí\n",
    "\n",
    "print(user_age)"
   ]
  },
  {
   "cell_type": "markdown",
   "metadata": {
    "id": "U0bvLZOVJm9W"
   },
   "source": [
    "### **Paso 5: Manejo de Errores en la Conversión de user_age**\n",
    "Hemos aprendido que los datos rara vez son perfectos, y es crucial anticipar posibles problemas para asegurar la robustez de nuestro sistema. En este paso, abordaremos el escenario en el que el valor de user_age no pueda ser convertido a un número entero.\n",
    "\n",
    "**Objetivo**\n",
    "\n",
    "Nuestro objetivo es implementar un mecanismo de manejo de errores para la conversión de user_age. Intentaremos convertir user_age a un tipo de dato entero (int). Si esta conversión falla (por ejemplo, si user_age contiene texto), nuestro sistema no debe bloquearse. En su lugar, debe informar al usuario sobre el error y solicitar un valor numérico.\n",
    "\n",
    "**Acción Clave**\n",
    "\n",
    "Utilizaremos un bloque try-except para intentar la conversión. Si la conversión es exitosa, el valor entero se asignará a una nueva variable, user_age_int. Si ocurre un error durante la conversión (un ValueError), imprimiremos un mensaje amigable solicitando al usuario que proporcione su edad como un valor numérico."
   ]
  },
  {
   "cell_type": "code",
   "execution_count": 6,
   "metadata": {
    "colab": {
     "base_uri": "https://localhost:8080/"
    },
    "id": "bKxiA-voJm9W",
    "outputId": "829a78ce-a7a5-4195-c424-90e9982c63ce",
    "trusted": true
   },
   "outputs": [
    {
     "name": "stdout",
     "output_type": "stream",
     "text": [
      "Please provide your age as a numerical value\n"
     ]
    }
   ],
   "source": [
    "user_age = 'treinta y dos'\n",
    "try:\n",
    "    user_age_int=int(user_age)\n",
    "except:\n",
    "    print(\"Please provide your age as a numerical value\") # escribe tu código aquí"
   ]
  },
  {
   "cell_type": "markdown",
   "metadata": {},
   "source": [
    "Al implementar este manejo de errores, hacemos nuestro código más resistente y amigable para el usuario, ya que proporciona retroalimentación clara en caso de datos inválidos en la variable user_age."
   ]
  },
  {
   "cell_type": "markdown",
   "metadata": {
    "id": "geo-WB0KW3Ji"
   },
   "source": [
    "### **Paso 6: Ordenamiento de Datos por ID de Usuario**\n",
    "El equipo de dirección de la Tienda 1 nos ha solicitado ayuda para organizar los datos de sus clientes. Un mejor ordenamiento facilitará el análisis y la gestión de la información.\n",
    "\n",
    "**Objetivo**\n",
    "\n",
    "Nuestra tarea en este paso es ordenar la lista de clientes por su ID de usuario de forma ascendente. Este tipo de ordenamiento es fundamental para acceder y analizar los datos de manera más eficiente.\n",
    "\n",
    "**Acción Clave**\n",
    "\n",
    "Implementaremos una función de ordenamiento que tome como criterio el ID de usuario. Al ordenar los datos de forma ascendente, los registros de clientes estarán secuenciados desde el ID más bajo hasta el más alto, lo que es una práctica común para la organización de bases de datos y facilita búsquedas y referencias.\n",
    "\n",
    "Este paso de organización es crucial para mejorar la usabilidad y el rendimiento al trabajar con los datos de los clientes de la Tienda 1.\n"
   ]
  },
  {
   "cell_type": "code",
   "execution_count": 7,
   "metadata": {
    "colab": {
     "base_uri": "https://localhost:8080/"
    },
    "id": "Re_QlnnLW3Jo",
    "outputId": "8b977bc7-e315-4a27-97ad-645570ed60bc",
    "trusted": true
   },
   "outputs": [
    {
     "name": "stdout",
     "output_type": "stream",
     "text": [
      "[['31980', 'kate morgan', 24.0, ['CLOTHES', 'BOOKS'], [439, 390]], ['32156', ' john doe ', 37.0, ['ELECTRONICS', 'HOME', 'FOOD'], [459, 120, 99]], ['32415', ' mike_reed ', 32.0, ['ELECTRONICS', 'SPORT', 'BOOKS'], [894, 213, 173]], ['32761', 'SAMANTHA SMITH', 29.0, ['CLOTHES', 'ELECTRONICS', 'BEAUTY'], [299, 679, 85]], ['32984', 'David White', 41.0, ['BOOKS', 'HOME', 'SPORT'], [234, 329, 243]], ['33001', 'emily brown', 26.0, ['BEAUTY', 'HOME', 'FOOD'], [213, 659, 79]], ['33767', ' Maria Garcia', 33.0, ['CLOTHES', 'FOOD', 'BEAUTY'], [499, 189, 63]], ['33912', 'JOSE MARTINEZ', 22.0, ['SPORT', 'ELECTRONICS', 'HOME'], [259, 549, 109]], ['34009', 'lisa wilson ', 35.0, ['HOME', 'BOOKS', 'CLOTHES'], [329, 189, 329]], ['34278', 'James Lee', 28.0, ['BEAUTY', 'CLOTHES', 'ELECTRONICS'], [189, 299, 579]]]\n"
     ]
    }
   ],
   "source": [
    "users = [\n",
    "    ['32415', ' mike_reed ', 32.0, ['ELECTRONICS', 'SPORT', 'BOOKS'], [894, 213, 173]],\n",
    "    ['31980', 'kate morgan', 24.0, ['CLOTHES', 'BOOKS'], [439, 390]],\n",
    "    ['32156', ' john doe ', 37.0, ['ELECTRONICS', 'HOME', 'FOOD'], [459, 120, 99]],\n",
    "    ['32761', 'SAMANTHA SMITH', 29.0, ['CLOTHES', 'ELECTRONICS', 'BEAUTY'], [299, 679, 85]],\n",
    "    ['32984', 'David White', 41.0, ['BOOKS', 'HOME', 'SPORT'], [234, 329, 243]],\n",
    "    ['33001', 'emily brown', 26.0, ['BEAUTY', 'HOME', 'FOOD'], [213, 659, 79]],\n",
    "    ['33767', ' Maria Garcia', 33.0, ['CLOTHES', 'FOOD', 'BEAUTY'], [499, 189, 63]],\n",
    "    ['33912', 'JOSE MARTINEZ', 22.0, ['SPORT', 'ELECTRONICS', 'HOME'], [259, 549, 109]],\n",
    "    ['34009', 'lisa wilson ', 35.0, ['HOME', 'BOOKS', 'CLOTHES'], [329, 189, 329]],\n",
    "    ['34278', 'James Lee', 28.0, ['BEAUTY', 'CLOTHES', 'ELECTRONICS'], [189, 299, 579]],\n",
    "]\n",
    "\n",
    "users.sort()# escribe tu código aquí\n",
    "\n",
    "print(users)"
   ]
  },
  {
   "cell_type": "markdown",
   "metadata": {
    "id": "VRqEQFJiJm9X"
   },
   "source": [
    "### **Paso 7: Cálculo del Gasto Total por Usuario**\n",
    "Con los datos de hábitos de consumo de nuestros usuarios, que incluyen la cantidad gastada en cada una de sus categorías favoritas, la dirección de la Tienda 1 está muy interesada en obtener un resumen clave: la cantidad total gastada por cada usuario.\n",
    "\n",
    "**Objetivo**\n",
    "\n",
    "Nuestro objetivo es calcular la suma total del dinero gastado por cada usuario en todas sus categorías de consumo. Este valor consolidado nos dará una visión clara del valor individual de cada cliente.\n",
    "\n",
    "**Acción Clave**\n",
    "\n",
    "Para lograr esto, iteraremos a través de los datos de consumo de cada usuario y sumaremos las cantidades gastadas en cada una de sus categorías favoritas. Una vez que tengamos este total, lo desplegaremos para su revisión.\n",
    "\n",
    "Este cálculo es fundamental para entender el comportamiento de gasto de nuestros usuarios y será una métrica crucial para futuras estrategias de marketing y gestión de clientes.\n"
   ]
  },
  {
   "cell_type": "code",
   "execution_count": 1,
   "metadata": {
    "colab": {
     "base_uri": "https://localhost:8080/"
    },
    "id": "sjNmuLsQJm9X",
    "outputId": "308483d6-8d3c-4763-9014-7e702307424f",
    "trusted": true
   },
   "outputs": [
    {
     "name": "stdout",
     "output_type": "stream",
     "text": [
      "1280\n"
     ]
    }
   ],
   "source": [
    "fav_categories_low = ['electronics', 'sport', 'books']\n",
    "spendings_per_category = [894, 213, 173]\n",
    "\n",
    "total_amount = sum(spendings_per_category) # escribe tu código aquí\n",
    "\n",
    "print(total_amount)\n"
   ]
  },
  {
   "cell_type": "markdown",
   "metadata": {
    "id": "zP0nVV5FJm9Y"
   },
   "source": [
    "### **Paso 8: Resumen de Información del Usuario**\n",
    "\n",
    "La dirección de la empresa nos ha solicitado una manera concisa de resumir la información clave de cada usuario. Esto facilitará una visión rápida y efectiva de los perfiles de nuestros clientes.\n",
    "\n",
    "**Objetivo**\n",
    "\n",
    "Nuestro objetivo es crear una cadena de texto formateada que combine datos esenciales de las variables user_id, user_name, y user_age. El formato final deseado para esta cadena es: User [user_id] is [user_name] who is [user_age] years old.\n",
    "\n",
    "**Acción Clave**\n",
    "\n",
    "Vamos a utilizar las variables mencionadas para construir esta cadena. \n"
   ]
  },
  {
   "cell_type": "code",
   "execution_count": 9,
   "metadata": {
    "colab": {
     "base_uri": "https://localhost:8080/"
    },
    "id": "8mlIJr4OJm9Y",
    "outputId": "909d84d1-5723-4676-fb2d-92f8a8c15b7b",
    "trusted": true
   },
   "outputs": [
    {
     "name": "stdout",
     "output_type": "stream",
     "text": [
      "User 32415 is mike who is 32 years old\n"
     ]
    }
   ],
   "source": [
    "user_id = '32415'\n",
    "user_name = ['mike', 'reed']\n",
    "user_age = 32\n",
    "\n",
    "user_info = \"User {} is {} who is {} years old\".format(user_id, user_name[0], user_age)# escribe tu código aquí\n",
    "print(user_info)"
   ]
  },
  {
   "cell_type": "markdown",
   "metadata": {},
   "source": [
    "Al crear este resumen formateado, proporcionamos una herramienta valiosa para la visualización rápida de los datos de cada usuario, mejorando la gestión y el análisis de la información de nuestros clientes."
   ]
  },
  {
   "cell_type": "markdown",
   "metadata": {
    "id": "xOj8_G0ZO9mM"
   },
   "source": [
    "### **Paso 9: Conteo de Clientes Registrados**\n",
    "\n",
    "La dirección de la empresa busca una manera sencilla y rápida de conocer el volumen total de datos de clientes que hemos registrado.\n",
    "\n",
    "**Objetivo**\n",
    "\n",
    "Nuestro objetivo es generar una cadena formateada que indique claramente la cantidad de clientes de los que disponemos información. La cadena final deseada es: Hemos registrado datos de X clientes.\n",
    "\n",
    "**Acción Clave**\n",
    "\n",
    "Necesitamos contar el número total de registros de clientes disponibles en nuestros datos. Una vez obtenido este conteo, lo insertaremos en la cadena predefinida.\n"
   ]
  },
  {
   "cell_type": "code",
   "execution_count": 2,
   "metadata": {
    "colab": {
     "base_uri": "https://localhost:8080/"
    },
    "id": "eGvjS1rkO9mS",
    "outputId": "ce65761f-07d9-463e-e645-4a69c4c9cd9f",
    "trusted": true
   },
   "outputs": [
    {
     "name": "stdout",
     "output_type": "stream",
     "text": [
      "Hemos registrado datos de  10  clientes\n"
     ]
    }
   ],
   "source": [
    "users = [\n",
    "    ['32415', ' mike_reed ', 32.0, ['ELECTRONICS', 'SPORT', 'BOOKS'], [894, 213, 173]],\n",
    "    ['31980', 'kate morgan', 24.0, ['CLOTHES', 'BOOKS'], [439, 390]],\n",
    "    ['32156', ' john doe ', 37.0, ['ELECTRONICS', 'HOME', 'FOOD'], [459, 120, 99]],\n",
    "    ['32761', 'SAMANTHA SMITH', 29.0, ['CLOTHES', 'ELECTRONICS', 'BEAUTY'], [299, 679, 85]],\n",
    "    ['32984', 'David White', 41.0, ['BOOKS', 'HOME', 'SPORT'], [234, 329, 243]],\n",
    "    ['33001', 'emily brown', 26.0, ['BEAUTY', 'HOME', 'FOOD'], [213, 659, 79]],\n",
    "    ['33767', ' Maria Garcia', 33.0, ['CLOTHES', 'FOOD', 'BEAUTY'], [499, 189, 63]],\n",
    "    ['33912', 'JOSE MARTINEZ', 22.0, ['SPORT', 'ELECTRONICS', 'HOME'], [259, 549, 109]],\n",
    "    ['34009', 'lisa wilson ', 35.0, ['HOME', 'BOOKS', 'CLOTHES'], [329, 189, 329]],\n",
    "    ['34278', 'James Lee', 28.0, ['BEAUTY', 'CLOTHES', 'ELECTRONICS'], [189, 299, 579]],\n",
    "]\n",
    "\n",
    "\n",
    "user_info = len(users)# escribe tu código aquí\n",
    "print(f'Hemos registrado datos de ', user_info, ' clientes')"
   ]
  },
  {
   "cell_type": "markdown",
   "metadata": {},
   "source": [
    "Este paso nos permite ofrecer una visión ejecutiva inmediata sobre la escala de nuestra base de datos de clientes, lo cual es fundamental para la toma de decisiones a nivel de dirección."
   ]
  },
  {
   "cell_type": "markdown",
   "metadata": {
    "id": "CVVBVYzORu7I"
   },
   "source": [
    "### **Paso 10:  Aplicación Global de Transformaciones de Datos**\n",
    "\n",
    "Hemos definido los pasos de limpieza y normalización individualmente. Ahora, es momento de aplicar todas esas transformaciones a un conjunto de datos de clientes para ver el resultado de forma integral. Para simplificar, trabajaremos con una lista de clientes más corta.\n",
    "\n",
    "**Objetivo**\n",
    "\n",
    "Nuestro objetivo es procesar la lista de clientes proporcionada, aplicando las siguientes transformaciones a cada registro:\n",
    "\n",
    "Limpiar user_name: Eliminar espacios iniciales y finales, y reemplazar los guiones bajos por espacios.\n",
    "Convertir user_age: Transformar la edad del usuario a un número entero.\n",
    "Dividir user_name: Separar el nombre completo en una sublista que contenga el nombre y el apellido.\n",
    "Guardaremos el resultado de estas transformaciones en una nueva lista llamada users_clean y la mostraremos.\n",
    "\n",
    "**Acciones Clave**\n",
    "\n",
    "Vamos a iterar sobre cada cliente en la lista original y aplicaremos secuencialmente las operaciones de limpieza y transformación que hemos definido en los pasos anteriores.\n"
   ]
  },
  {
   "cell_type": "code",
   "execution_count": 11,
   "metadata": {
    "colab": {
     "base_uri": "https://localhost:8080/"
    },
    "id": "9qu_k6XURu7O",
    "outputId": "0bfb6d81-56c3-4c21-fa54-aa09b9752082",
    "trusted": true
   },
   "outputs": [
    {
     "name": "stdout",
     "output_type": "stream",
     "text": [
      "[['32415', ['mike', 'reed'], 32, ['ELECTRONICS', 'SPORT', 'BOOKS'], [894, 213, 173]], ['31980', ['kate', 'morgan'], 24, ['CLOTHES', 'BOOKS'], [439, 390]], ['32156', ['john', 'doe'], 37, ['ELECTRONICS', 'HOME', 'FOOD'], [459, 120, 99]]]\n"
     ]
    }
   ],
   "source": [
    "users = [\n",
    "    ['32415', ' mike_reed ', 32.0, ['ELECTRONICS', 'SPORT', 'BOOKS'], [894, 213, 173]],\n",
    "    ['31980', 'kate morgan', 24.0, ['CLOTHES', 'BOOKS'], [439, 390]],\n",
    "    ['32156', ' john doe ', 37.0, ['ELECTRONICS', 'HOME', 'FOOD'], [459, 120, 99]],\n",
    "]\n",
    "\n",
    "users_clean = []\n",
    "\n",
    "\n",
    "# Procesa al primer usuario\n",
    "user_name_1 = users[0][1].strip().replace('_', ' ')# escribe tu código aquí\n",
    "user_age_1 = int(users[0][2]) # escribe tu código aquí\n",
    "user_name_1 = user_name_1.split() # escribe tu código aquí\n",
    "users_clean.append([users[0][0], user_name_1, user_age_1, users[0][3], users[0][4]]) # escribe tu código aquí\n",
    "\n",
    "# Procesa al segundo usuario\n",
    "user_name_2 = users[1][1].strip() # escribe tu código aquí\n",
    "user_age_2 = int(users[1][2]) # escribe tu código aquí\n",
    "user_name_2 = user_name_2.split() # escribe tu código aquí\n",
    "users_clean.append([users[1][0],user_name_2, user_age_2, users[1][3],users[1][4]]) # escribe tu código aquí\n",
    "\n",
    "# Procesa al tercer usuario\n",
    "user_name_3 = users[2][1].strip() # escribe tu código aquí\n",
    "user_age_3 = int(users[2][2]) # escribe tu código aquí\n",
    "user_name_3 = user_name_3.split() # escribe tu código aquí\n",
    "users_clean.append([users[2][0],user_name_3, user_age_3, users[2][3],users[2][4]]) # escribe tu código aquí\n",
    "\n",
    "\n",
    "\n",
    "print(users_clean)\n"
   ]
  },
  {
   "cell_type": "markdown",
   "metadata": {
    "id": "06IMoD_nRmtf"
   },
   "source": [
    "----------\n"
   ]
  }
 ],
 "metadata": {
  "ExecuteTimeLog": [
   {
    "duration": 6,
    "start_time": "2024-12-10T19:39:54.740Z"
   },
   {
    "duration": 3,
    "start_time": "2024-12-10T19:40:44.161Z"
   },
   {
    "duration": 3,
    "start_time": "2024-12-10T19:41:18.282Z"
   },
   {
    "duration": 3,
    "start_time": "2024-12-10T19:44:02.242Z"
   },
   {
    "duration": 3,
    "start_time": "2024-12-10T19:45:14.659Z"
   },
   {
    "duration": 6,
    "start_time": "2024-12-10T19:48:49.883Z"
   },
   {
    "duration": 2,
    "start_time": "2024-12-10T19:52:03.666Z"
   },
   {
    "duration": 3,
    "start_time": "2024-12-10T19:54:33.796Z"
   },
   {
    "duration": 3,
    "start_time": "2024-12-10T19:55:10.542Z"
   },
   {
    "duration": 6,
    "start_time": "2024-12-10T19:56:19.103Z"
   },
   {
    "duration": 159,
    "start_time": "2024-12-10T20:10:05.427Z"
   },
   {
    "duration": 19,
    "start_time": "2024-12-10T20:10:53.016Z"
   },
   {
    "duration": 19,
    "start_time": "2024-12-10T20:11:23.081Z"
   },
   {
    "duration": 20,
    "start_time": "2024-12-10T20:12:21.290Z"
   },
   {
    "duration": 6,
    "start_time": "2024-12-10T20:13:10.467Z"
   },
   {
    "duration": 7,
    "start_time": "2024-12-11T09:30:01.182Z"
   },
   {
    "duration": 3,
    "start_time": "2024-12-11T09:30:02.216Z"
   },
   {
    "duration": 4,
    "start_time": "2024-12-11T09:30:27.249Z"
   },
   {
    "duration": 3,
    "start_time": "2024-12-11T09:30:36.547Z"
   },
   {
    "duration": 3,
    "start_time": "2024-12-11T09:30:46.507Z"
   },
   {
    "duration": 3,
    "start_time": "2024-12-11T09:30:54.386Z"
   },
   {
    "duration": 5,
    "start_time": "2024-12-11T09:31:01.843Z"
   },
   {
    "duration": 3,
    "start_time": "2024-12-11T09:31:10.167Z"
   },
   {
    "duration": 3,
    "start_time": "2024-12-11T09:31:18.010Z"
   },
   {
    "duration": 5,
    "start_time": "2024-12-11T09:31:26.393Z"
   },
   {
    "duration": 6,
    "start_time": "2024-12-11T09:31:36.039Z"
   }
  ],
  "colab": {
   "provenance": []
  },
  "kernelspec": {
   "display_name": "Python 3",
   "language": "python",
   "name": "python3"
  },
  "language_info": {
   "codemirror_mode": {
    "name": "ipython",
    "version": 3
   },
   "file_extension": ".py",
   "mimetype": "text/x-python",
   "name": "python",
   "nbconvert_exporter": "python",
   "pygments_lexer": "ipython3",
   "version": "3.12.10"
  },
  "toc": {
   "base_numbering": 1,
   "nav_menu": {},
   "number_sections": true,
   "sideBar": true,
   "skip_h1_title": true,
   "title_cell": "Table of Contents",
   "title_sidebar": "Contents",
   "toc_cell": false,
   "toc_position": {},
   "toc_section_display": true,
   "toc_window_display": false
  }
 },
 "nbformat": 4,
 "nbformat_minor": 1
}
